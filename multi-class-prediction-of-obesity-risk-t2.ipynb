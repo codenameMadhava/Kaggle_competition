{
 "cells": [
  {
   "cell_type": "code",
   "execution_count": 1,
   "id": "4bcf0fa2",
   "metadata": {
    "_cell_guid": "b1076dfc-b9ad-4769-8c92-a6c4dae69d19",
    "_uuid": "8f2839f25d086af736a60e9eeb907d3b93b6e0e5",
    "execution": {
     "iopub.execute_input": "2024-02-16T07:46:34.145958Z",
     "iopub.status.busy": "2024-02-16T07:46:34.145524Z",
     "iopub.status.idle": "2024-02-16T07:46:35.047792Z",
     "shell.execute_reply": "2024-02-16T07:46:35.046577Z"
    },
    "papermill": {
     "duration": 0.915785,
     "end_time": "2024-02-16T07:46:35.051285",
     "exception": false,
     "start_time": "2024-02-16T07:46:34.135500",
     "status": "completed"
    },
    "tags": []
   },
   "outputs": [
    {
     "name": "stdout",
     "output_type": "stream",
     "text": [
      "/kaggle/input/playground-series-s4e2/sample_submission.csv\n",
      "/kaggle/input/playground-series-s4e2/train.csv\n",
      "/kaggle/input/playground-series-s4e2/test.csv\n"
     ]
    }
   ],
   "source": [
    "# This Python 3 environment comes with many helpful analytics libraries installed\n",
    "# It is defined by the kaggle/python Docker image: https://github.com/kaggle/docker-python\n",
    "# For example, here's several helpful packages to load\n",
    "\n",
    "import numpy as np # linear algebra\n",
    "import pandas as pd # data processing, CSV file I/O (e.g. pd.read_csv)\n",
    "\n",
    "# Input data files are available in the read-only \"../input/\" directory\n",
    "# For example, running this (by clicking run or pressing Shift+Enter) will list all files under the input directory\n",
    "\n",
    "import os\n",
    "for dirname, _, filenames in os.walk('/kaggle/input'):\n",
    "    for filename in filenames:\n",
    "        print(os.path.join(dirname, filename))\n",
    "\n",
    "# You can write up to 20GB to the current directory (/kaggle/working/) that gets preserved as output when you create a version using \"Save & Run All\" \n",
    "# You can also write temporary files to /kaggle/temp/, but they won't be saved outside of the current session"
   ]
  },
  {
   "cell_type": "code",
   "execution_count": 2,
   "id": "64d3fe5d",
   "metadata": {
    "execution": {
     "iopub.execute_input": "2024-02-16T07:46:35.068926Z",
     "iopub.status.busy": "2024-02-16T07:46:35.068391Z",
     "iopub.status.idle": "2024-02-16T07:46:35.215422Z",
     "shell.execute_reply": "2024-02-16T07:46:35.214271Z"
    },
    "papermill": {
     "duration": 0.158742,
     "end_time": "2024-02-16T07:46:35.218071",
     "exception": false,
     "start_time": "2024-02-16T07:46:35.059329",
     "status": "completed"
    },
    "tags": []
   },
   "outputs": [
    {
     "data": {
      "text/html": [
       "<div>\n",
       "<style scoped>\n",
       "    .dataframe tbody tr th:only-of-type {\n",
       "        vertical-align: middle;\n",
       "    }\n",
       "\n",
       "    .dataframe tbody tr th {\n",
       "        vertical-align: top;\n",
       "    }\n",
       "\n",
       "    .dataframe thead th {\n",
       "        text-align: right;\n",
       "    }\n",
       "</style>\n",
       "<table border=\"1\" class=\"dataframe\">\n",
       "  <thead>\n",
       "    <tr style=\"text-align: right;\">\n",
       "      <th></th>\n",
       "      <th>id</th>\n",
       "      <th>Gender</th>\n",
       "      <th>Age</th>\n",
       "      <th>Height</th>\n",
       "      <th>Weight</th>\n",
       "      <th>family_history_with_overweight</th>\n",
       "      <th>FAVC</th>\n",
       "      <th>FCVC</th>\n",
       "      <th>NCP</th>\n",
       "      <th>CAEC</th>\n",
       "      <th>SMOKE</th>\n",
       "      <th>CH2O</th>\n",
       "      <th>SCC</th>\n",
       "      <th>FAF</th>\n",
       "      <th>TUE</th>\n",
       "      <th>CALC</th>\n",
       "      <th>MTRANS</th>\n",
       "      <th>NObeyesdad</th>\n",
       "    </tr>\n",
       "  </thead>\n",
       "  <tbody>\n",
       "    <tr>\n",
       "      <th>0</th>\n",
       "      <td>0</td>\n",
       "      <td>Male</td>\n",
       "      <td>24.443011</td>\n",
       "      <td>1.699998</td>\n",
       "      <td>81.669950</td>\n",
       "      <td>yes</td>\n",
       "      <td>yes</td>\n",
       "      <td>2.000000</td>\n",
       "      <td>2.983297</td>\n",
       "      <td>Sometimes</td>\n",
       "      <td>no</td>\n",
       "      <td>2.763573</td>\n",
       "      <td>no</td>\n",
       "      <td>0.000000</td>\n",
       "      <td>0.976473</td>\n",
       "      <td>Sometimes</td>\n",
       "      <td>Public_Transportation</td>\n",
       "      <td>Overweight_Level_II</td>\n",
       "    </tr>\n",
       "    <tr>\n",
       "      <th>1</th>\n",
       "      <td>1</td>\n",
       "      <td>Female</td>\n",
       "      <td>18.000000</td>\n",
       "      <td>1.560000</td>\n",
       "      <td>57.000000</td>\n",
       "      <td>yes</td>\n",
       "      <td>yes</td>\n",
       "      <td>2.000000</td>\n",
       "      <td>3.000000</td>\n",
       "      <td>Frequently</td>\n",
       "      <td>no</td>\n",
       "      <td>2.000000</td>\n",
       "      <td>no</td>\n",
       "      <td>1.000000</td>\n",
       "      <td>1.000000</td>\n",
       "      <td>no</td>\n",
       "      <td>Automobile</td>\n",
       "      <td>Normal_Weight</td>\n",
       "    </tr>\n",
       "    <tr>\n",
       "      <th>2</th>\n",
       "      <td>2</td>\n",
       "      <td>Female</td>\n",
       "      <td>18.000000</td>\n",
       "      <td>1.711460</td>\n",
       "      <td>50.165754</td>\n",
       "      <td>yes</td>\n",
       "      <td>yes</td>\n",
       "      <td>1.880534</td>\n",
       "      <td>1.411685</td>\n",
       "      <td>Sometimes</td>\n",
       "      <td>no</td>\n",
       "      <td>1.910378</td>\n",
       "      <td>no</td>\n",
       "      <td>0.866045</td>\n",
       "      <td>1.673584</td>\n",
       "      <td>no</td>\n",
       "      <td>Public_Transportation</td>\n",
       "      <td>Insufficient_Weight</td>\n",
       "    </tr>\n",
       "    <tr>\n",
       "      <th>3</th>\n",
       "      <td>3</td>\n",
       "      <td>Female</td>\n",
       "      <td>20.952737</td>\n",
       "      <td>1.710730</td>\n",
       "      <td>131.274851</td>\n",
       "      <td>yes</td>\n",
       "      <td>yes</td>\n",
       "      <td>3.000000</td>\n",
       "      <td>3.000000</td>\n",
       "      <td>Sometimes</td>\n",
       "      <td>no</td>\n",
       "      <td>1.674061</td>\n",
       "      <td>no</td>\n",
       "      <td>1.467863</td>\n",
       "      <td>0.780199</td>\n",
       "      <td>Sometimes</td>\n",
       "      <td>Public_Transportation</td>\n",
       "      <td>Obesity_Type_III</td>\n",
       "    </tr>\n",
       "  </tbody>\n",
       "</table>\n",
       "</div>"
      ],
      "text/plain": [
       "   id  Gender        Age    Height      Weight family_history_with_overweight  \\\n",
       "0   0    Male  24.443011  1.699998   81.669950                            yes   \n",
       "1   1  Female  18.000000  1.560000   57.000000                            yes   \n",
       "2   2  Female  18.000000  1.711460   50.165754                            yes   \n",
       "3   3  Female  20.952737  1.710730  131.274851                            yes   \n",
       "\n",
       "  FAVC      FCVC       NCP        CAEC SMOKE      CH2O SCC       FAF  \\\n",
       "0  yes  2.000000  2.983297   Sometimes    no  2.763573  no  0.000000   \n",
       "1  yes  2.000000  3.000000  Frequently    no  2.000000  no  1.000000   \n",
       "2  yes  1.880534  1.411685   Sometimes    no  1.910378  no  0.866045   \n",
       "3  yes  3.000000  3.000000   Sometimes    no  1.674061  no  1.467863   \n",
       "\n",
       "        TUE       CALC                 MTRANS           NObeyesdad  \n",
       "0  0.976473  Sometimes  Public_Transportation  Overweight_Level_II  \n",
       "1  1.000000         no             Automobile        Normal_Weight  \n",
       "2  1.673584         no  Public_Transportation  Insufficient_Weight  \n",
       "3  0.780199  Sometimes  Public_Transportation     Obesity_Type_III  "
      ]
     },
     "execution_count": 2,
     "metadata": {},
     "output_type": "execute_result"
    }
   ],
   "source": [
    "train_df = pd.read_csv(\"/kaggle/input/playground-series-s4e2/train.csv\")\n",
    "train_df.head(4)"
   ]
  },
  {
   "cell_type": "code",
   "execution_count": 3,
   "id": "a5316c6a",
   "metadata": {
    "execution": {
     "iopub.execute_input": "2024-02-16T07:46:35.235827Z",
     "iopub.status.busy": "2024-02-16T07:46:35.235412Z",
     "iopub.status.idle": "2024-02-16T07:46:36.522066Z",
     "shell.execute_reply": "2024-02-16T07:46:36.520824Z"
    },
    "papermill": {
     "duration": 1.298809,
     "end_time": "2024-02-16T07:46:36.524898",
     "exception": false,
     "start_time": "2024-02-16T07:46:35.226089",
     "status": "completed"
    },
    "tags": []
   },
   "outputs": [],
   "source": [
    "from sklearn.preprocessing import LabelEncoder\n",
    "le = LabelEncoder()"
   ]
  },
  {
   "cell_type": "code",
   "execution_count": 4,
   "id": "024e6bf3",
   "metadata": {
    "execution": {
     "iopub.execute_input": "2024-02-16T07:46:36.543397Z",
     "iopub.status.busy": "2024-02-16T07:46:36.542977Z",
     "iopub.status.idle": "2024-02-16T07:46:36.610985Z",
     "shell.execute_reply": "2024-02-16T07:46:36.609785Z"
    },
    "papermill": {
     "duration": 0.080603,
     "end_time": "2024-02-16T07:46:36.613775",
     "exception": false,
     "start_time": "2024-02-16T07:46:36.533172",
     "status": "completed"
    },
    "tags": []
   },
   "outputs": [],
   "source": [
    "train_df['Gender'] = le.fit_transform(train_df['Gender'])\n",
    "train_df['family_history_with_overweight'] = le.fit_transform(train_df['family_history_with_overweight'])\n",
    "train_df['FAVC'] = le.fit_transform(train_df['FAVC'])\n",
    "train_df['CAEC'] = le.fit_transform(train_df['CAEC'])\n",
    "train_df['SMOKE'] = le.fit_transform(train_df['SMOKE'])\n",
    "train_df['SCC'] = le.fit_transform(train_df['SCC'])\n",
    "train_df['CALC'] = le.fit_transform(train_df['CALC'])\n",
    "train_df['MTRANS'] = le.fit_transform(train_df['MTRANS'])\n",
    "train_df['NObeyesdad'] = le.fit_transform(train_df['NObeyesdad'])"
   ]
  },
  {
   "cell_type": "code",
   "execution_count": 5,
   "id": "e306e55a",
   "metadata": {
    "execution": {
     "iopub.execute_input": "2024-02-16T07:46:36.632267Z",
     "iopub.status.busy": "2024-02-16T07:46:36.631833Z",
     "iopub.status.idle": "2024-02-16T07:46:36.651713Z",
     "shell.execute_reply": "2024-02-16T07:46:36.650573Z"
    },
    "papermill": {
     "duration": 0.03181,
     "end_time": "2024-02-16T07:46:36.653947",
     "exception": false,
     "start_time": "2024-02-16T07:46:36.622137",
     "status": "completed"
    },
    "tags": []
   },
   "outputs": [
    {
     "data": {
      "text/html": [
       "<div>\n",
       "<style scoped>\n",
       "    .dataframe tbody tr th:only-of-type {\n",
       "        vertical-align: middle;\n",
       "    }\n",
       "\n",
       "    .dataframe tbody tr th {\n",
       "        vertical-align: top;\n",
       "    }\n",
       "\n",
       "    .dataframe thead th {\n",
       "        text-align: right;\n",
       "    }\n",
       "</style>\n",
       "<table border=\"1\" class=\"dataframe\">\n",
       "  <thead>\n",
       "    <tr style=\"text-align: right;\">\n",
       "      <th></th>\n",
       "      <th>id</th>\n",
       "      <th>Gender</th>\n",
       "      <th>Age</th>\n",
       "      <th>Height</th>\n",
       "      <th>Weight</th>\n",
       "      <th>family_history_with_overweight</th>\n",
       "      <th>FAVC</th>\n",
       "      <th>FCVC</th>\n",
       "      <th>NCP</th>\n",
       "      <th>CAEC</th>\n",
       "      <th>SMOKE</th>\n",
       "      <th>CH2O</th>\n",
       "      <th>SCC</th>\n",
       "      <th>FAF</th>\n",
       "      <th>TUE</th>\n",
       "      <th>CALC</th>\n",
       "      <th>MTRANS</th>\n",
       "      <th>NObeyesdad</th>\n",
       "    </tr>\n",
       "  </thead>\n",
       "  <tbody>\n",
       "    <tr>\n",
       "      <th>0</th>\n",
       "      <td>0</td>\n",
       "      <td>1</td>\n",
       "      <td>24.443011</td>\n",
       "      <td>1.699998</td>\n",
       "      <td>81.669950</td>\n",
       "      <td>1</td>\n",
       "      <td>1</td>\n",
       "      <td>2.000000</td>\n",
       "      <td>2.983297</td>\n",
       "      <td>2</td>\n",
       "      <td>0</td>\n",
       "      <td>2.763573</td>\n",
       "      <td>0</td>\n",
       "      <td>0.000000</td>\n",
       "      <td>0.976473</td>\n",
       "      <td>1</td>\n",
       "      <td>3</td>\n",
       "      <td>6</td>\n",
       "    </tr>\n",
       "    <tr>\n",
       "      <th>1</th>\n",
       "      <td>1</td>\n",
       "      <td>0</td>\n",
       "      <td>18.000000</td>\n",
       "      <td>1.560000</td>\n",
       "      <td>57.000000</td>\n",
       "      <td>1</td>\n",
       "      <td>1</td>\n",
       "      <td>2.000000</td>\n",
       "      <td>3.000000</td>\n",
       "      <td>1</td>\n",
       "      <td>0</td>\n",
       "      <td>2.000000</td>\n",
       "      <td>0</td>\n",
       "      <td>1.000000</td>\n",
       "      <td>1.000000</td>\n",
       "      <td>2</td>\n",
       "      <td>0</td>\n",
       "      <td>1</td>\n",
       "    </tr>\n",
       "    <tr>\n",
       "      <th>2</th>\n",
       "      <td>2</td>\n",
       "      <td>0</td>\n",
       "      <td>18.000000</td>\n",
       "      <td>1.711460</td>\n",
       "      <td>50.165754</td>\n",
       "      <td>1</td>\n",
       "      <td>1</td>\n",
       "      <td>1.880534</td>\n",
       "      <td>1.411685</td>\n",
       "      <td>2</td>\n",
       "      <td>0</td>\n",
       "      <td>1.910378</td>\n",
       "      <td>0</td>\n",
       "      <td>0.866045</td>\n",
       "      <td>1.673584</td>\n",
       "      <td>2</td>\n",
       "      <td>3</td>\n",
       "      <td>0</td>\n",
       "    </tr>\n",
       "    <tr>\n",
       "      <th>3</th>\n",
       "      <td>3</td>\n",
       "      <td>0</td>\n",
       "      <td>20.952737</td>\n",
       "      <td>1.710730</td>\n",
       "      <td>131.274851</td>\n",
       "      <td>1</td>\n",
       "      <td>1</td>\n",
       "      <td>3.000000</td>\n",
       "      <td>3.000000</td>\n",
       "      <td>2</td>\n",
       "      <td>0</td>\n",
       "      <td>1.674061</td>\n",
       "      <td>0</td>\n",
       "      <td>1.467863</td>\n",
       "      <td>0.780199</td>\n",
       "      <td>1</td>\n",
       "      <td>3</td>\n",
       "      <td>4</td>\n",
       "    </tr>\n",
       "  </tbody>\n",
       "</table>\n",
       "</div>"
      ],
      "text/plain": [
       "   id  Gender        Age    Height      Weight  \\\n",
       "0   0       1  24.443011  1.699998   81.669950   \n",
       "1   1       0  18.000000  1.560000   57.000000   \n",
       "2   2       0  18.000000  1.711460   50.165754   \n",
       "3   3       0  20.952737  1.710730  131.274851   \n",
       "\n",
       "   family_history_with_overweight  FAVC      FCVC       NCP  CAEC  SMOKE  \\\n",
       "0                               1     1  2.000000  2.983297     2      0   \n",
       "1                               1     1  2.000000  3.000000     1      0   \n",
       "2                               1     1  1.880534  1.411685     2      0   \n",
       "3                               1     1  3.000000  3.000000     2      0   \n",
       "\n",
       "       CH2O  SCC       FAF       TUE  CALC  MTRANS  NObeyesdad  \n",
       "0  2.763573    0  0.000000  0.976473     1       3           6  \n",
       "1  2.000000    0  1.000000  1.000000     2       0           1  \n",
       "2  1.910378    0  0.866045  1.673584     2       3           0  \n",
       "3  1.674061    0  1.467863  0.780199     1       3           4  "
      ]
     },
     "execution_count": 5,
     "metadata": {},
     "output_type": "execute_result"
    }
   ],
   "source": [
    "train_df.head(4)"
   ]
  },
  {
   "cell_type": "code",
   "execution_count": 6,
   "id": "a9449175",
   "metadata": {
    "execution": {
     "iopub.execute_input": "2024-02-16T07:46:36.673052Z",
     "iopub.status.busy": "2024-02-16T07:46:36.672682Z",
     "iopub.status.idle": "2024-02-16T07:46:36.685653Z",
     "shell.execute_reply": "2024-02-16T07:46:36.684514Z"
    },
    "papermill": {
     "duration": 0.025696,
     "end_time": "2024-02-16T07:46:36.688186",
     "exception": false,
     "start_time": "2024-02-16T07:46:36.662490",
     "status": "completed"
    },
    "tags": []
   },
   "outputs": [
    {
     "data": {
      "text/plain": [
       "id                                0\n",
       "Gender                            0\n",
       "Age                               0\n",
       "Height                            0\n",
       "Weight                            0\n",
       "family_history_with_overweight    0\n",
       "FAVC                              0\n",
       "FCVC                              0\n",
       "NCP                               0\n",
       "CAEC                              0\n",
       "SMOKE                             0\n",
       "CH2O                              0\n",
       "SCC                               0\n",
       "FAF                               0\n",
       "TUE                               0\n",
       "CALC                              0\n",
       "MTRANS                            0\n",
       "NObeyesdad                        0\n",
       "dtype: int64"
      ]
     },
     "execution_count": 6,
     "metadata": {},
     "output_type": "execute_result"
    }
   ],
   "source": [
    "train_df.isna().sum()"
   ]
  },
  {
   "cell_type": "code",
   "execution_count": 7,
   "id": "f006d58f",
   "metadata": {
    "execution": {
     "iopub.execute_input": "2024-02-16T07:46:36.707418Z",
     "iopub.status.busy": "2024-02-16T07:46:36.707021Z",
     "iopub.status.idle": "2024-02-16T07:46:36.723186Z",
     "shell.execute_reply": "2024-02-16T07:46:36.721902Z"
    },
    "papermill": {
     "duration": 0.029074,
     "end_time": "2024-02-16T07:46:36.726163",
     "exception": false,
     "start_time": "2024-02-16T07:46:36.697089",
     "status": "completed"
    },
    "tags": []
   },
   "outputs": [],
   "source": [
    "df = train_df\n",
    "X = df.drop(columns=[\"NObeyesdad\"])\n",
    "y = df['NObeyesdad']"
   ]
  },
  {
   "cell_type": "code",
   "execution_count": 8,
   "id": "f9517278",
   "metadata": {
    "execution": {
     "iopub.execute_input": "2024-02-16T07:46:36.746254Z",
     "iopub.status.busy": "2024-02-16T07:46:36.745836Z",
     "iopub.status.idle": "2024-02-16T07:46:36.865795Z",
     "shell.execute_reply": "2024-02-16T07:46:36.864638Z"
    },
    "papermill": {
     "duration": 0.133356,
     "end_time": "2024-02-16T07:46:36.868617",
     "exception": false,
     "start_time": "2024-02-16T07:46:36.735261",
     "status": "completed"
    },
    "tags": []
   },
   "outputs": [],
   "source": [
    "from sklearn.model_selection import train_test_split\n",
    "X_train,X_test,y_train,y_test = train_test_split(X,y,test_size=.30,random_state=42)"
   ]
  },
  {
   "cell_type": "code",
   "execution_count": 9,
   "id": "6d8c6569",
   "metadata": {
    "execution": {
     "iopub.execute_input": "2024-02-16T07:46:36.887850Z",
     "iopub.status.busy": "2024-02-16T07:46:36.887434Z",
     "iopub.status.idle": "2024-02-16T07:46:36.893293Z",
     "shell.execute_reply": "2024-02-16T07:46:36.892176Z"
    },
    "papermill": {
     "duration": 0.018634,
     "end_time": "2024-02-16T07:46:36.895973",
     "exception": false,
     "start_time": "2024-02-16T07:46:36.877339",
     "status": "completed"
    },
    "tags": []
   },
   "outputs": [
    {
     "name": "stdout",
     "output_type": "stream",
     "text": [
      "(14530, 17)\n",
      "(6228, 17)\n",
      "(14530,)\n",
      "(6228,)\n"
     ]
    }
   ],
   "source": [
    "print(X_train.shape)\n",
    "print(X_test.shape)\n",
    "print(y_train.shape)\n",
    "print(y_test.shape)"
   ]
  },
  {
   "cell_type": "code",
   "execution_count": 10,
   "id": "fba90447",
   "metadata": {
    "execution": {
     "iopub.execute_input": "2024-02-16T07:46:36.915732Z",
     "iopub.status.busy": "2024-02-16T07:46:36.915325Z",
     "iopub.status.idle": "2024-02-16T07:46:39.993670Z",
     "shell.execute_reply": "2024-02-16T07:46:39.992484Z"
    },
    "papermill": {
     "duration": 3.091372,
     "end_time": "2024-02-16T07:46:39.996159",
     "exception": false,
     "start_time": "2024-02-16T07:46:36.904787",
     "status": "completed"
    },
    "tags": []
   },
   "outputs": [
    {
     "data": {
      "text/html": [
       "<style>#sk-container-id-1 {color: black;background-color: white;}#sk-container-id-1 pre{padding: 0;}#sk-container-id-1 div.sk-toggleable {background-color: white;}#sk-container-id-1 label.sk-toggleable__label {cursor: pointer;display: block;width: 100%;margin-bottom: 0;padding: 0.3em;box-sizing: border-box;text-align: center;}#sk-container-id-1 label.sk-toggleable__label-arrow:before {content: \"▸\";float: left;margin-right: 0.25em;color: #696969;}#sk-container-id-1 label.sk-toggleable__label-arrow:hover:before {color: black;}#sk-container-id-1 div.sk-estimator:hover label.sk-toggleable__label-arrow:before {color: black;}#sk-container-id-1 div.sk-toggleable__content {max-height: 0;max-width: 0;overflow: hidden;text-align: left;background-color: #f0f8ff;}#sk-container-id-1 div.sk-toggleable__content pre {margin: 0.2em;color: black;border-radius: 0.25em;background-color: #f0f8ff;}#sk-container-id-1 input.sk-toggleable__control:checked~div.sk-toggleable__content {max-height: 200px;max-width: 100%;overflow: auto;}#sk-container-id-1 input.sk-toggleable__control:checked~label.sk-toggleable__label-arrow:before {content: \"▾\";}#sk-container-id-1 div.sk-estimator input.sk-toggleable__control:checked~label.sk-toggleable__label {background-color: #d4ebff;}#sk-container-id-1 div.sk-label input.sk-toggleable__control:checked~label.sk-toggleable__label {background-color: #d4ebff;}#sk-container-id-1 input.sk-hidden--visually {border: 0;clip: rect(1px 1px 1px 1px);clip: rect(1px, 1px, 1px, 1px);height: 1px;margin: -1px;overflow: hidden;padding: 0;position: absolute;width: 1px;}#sk-container-id-1 div.sk-estimator {font-family: monospace;background-color: #f0f8ff;border: 1px dotted black;border-radius: 0.25em;box-sizing: border-box;margin-bottom: 0.5em;}#sk-container-id-1 div.sk-estimator:hover {background-color: #d4ebff;}#sk-container-id-1 div.sk-parallel-item::after {content: \"\";width: 100%;border-bottom: 1px solid gray;flex-grow: 1;}#sk-container-id-1 div.sk-label:hover label.sk-toggleable__label {background-color: #d4ebff;}#sk-container-id-1 div.sk-serial::before {content: \"\";position: absolute;border-left: 1px solid gray;box-sizing: border-box;top: 0;bottom: 0;left: 50%;z-index: 0;}#sk-container-id-1 div.sk-serial {display: flex;flex-direction: column;align-items: center;background-color: white;padding-right: 0.2em;padding-left: 0.2em;position: relative;}#sk-container-id-1 div.sk-item {position: relative;z-index: 1;}#sk-container-id-1 div.sk-parallel {display: flex;align-items: stretch;justify-content: center;background-color: white;position: relative;}#sk-container-id-1 div.sk-item::before, #sk-container-id-1 div.sk-parallel-item::before {content: \"\";position: absolute;border-left: 1px solid gray;box-sizing: border-box;top: 0;bottom: 0;left: 50%;z-index: -1;}#sk-container-id-1 div.sk-parallel-item {display: flex;flex-direction: column;z-index: 1;position: relative;background-color: white;}#sk-container-id-1 div.sk-parallel-item:first-child::after {align-self: flex-end;width: 50%;}#sk-container-id-1 div.sk-parallel-item:last-child::after {align-self: flex-start;width: 50%;}#sk-container-id-1 div.sk-parallel-item:only-child::after {width: 0;}#sk-container-id-1 div.sk-dashed-wrapped {border: 1px dashed gray;margin: 0 0.4em 0.5em 0.4em;box-sizing: border-box;padding-bottom: 0.4em;background-color: white;}#sk-container-id-1 div.sk-label label {font-family: monospace;font-weight: bold;display: inline-block;line-height: 1.2em;}#sk-container-id-1 div.sk-label-container {text-align: center;}#sk-container-id-1 div.sk-container {/* jupyter's `normalize.less` sets `[hidden] { display: none; }` but bootstrap.min.css set `[hidden] { display: none !important; }` so we also need the `!important` here to be able to override the default hidden behavior on the sphinx rendered scikit-learn.org. See: https://github.com/scikit-learn/scikit-learn/issues/21755 */display: inline-block !important;position: relative;}#sk-container-id-1 div.sk-text-repr-fallback {display: none;}</style><div id=\"sk-container-id-1\" class=\"sk-top-container\"><div class=\"sk-text-repr-fallback\"><pre>RandomForestClassifier()</pre><b>In a Jupyter environment, please rerun this cell to show the HTML representation or trust the notebook. <br />On GitHub, the HTML representation is unable to render, please try loading this page with nbviewer.org.</b></div><div class=\"sk-container\" hidden><div class=\"sk-item\"><div class=\"sk-estimator sk-toggleable\"><input class=\"sk-toggleable__control sk-hidden--visually\" id=\"sk-estimator-id-1\" type=\"checkbox\" checked><label for=\"sk-estimator-id-1\" class=\"sk-toggleable__label sk-toggleable__label-arrow\">RandomForestClassifier</label><div class=\"sk-toggleable__content\"><pre>RandomForestClassifier()</pre></div></div></div></div></div>"
      ],
      "text/plain": [
       "RandomForestClassifier()"
      ]
     },
     "execution_count": 10,
     "metadata": {},
     "output_type": "execute_result"
    }
   ],
   "source": [
    "from sklearn.ensemble import RandomForestClassifier\n",
    "Rf = RandomForestClassifier()\n",
    "Rf.fit(X_train,y_train)"
   ]
  },
  {
   "cell_type": "code",
   "execution_count": 11,
   "id": "9162b5c9",
   "metadata": {
    "execution": {
     "iopub.execute_input": "2024-02-16T07:46:40.016618Z",
     "iopub.status.busy": "2024-02-16T07:46:40.016218Z",
     "iopub.status.idle": "2024-02-16T07:46:40.159054Z",
     "shell.execute_reply": "2024-02-16T07:46:40.157914Z"
    },
    "papermill": {
     "duration": 0.157007,
     "end_time": "2024-02-16T07:46:40.162020",
     "exception": false,
     "start_time": "2024-02-16T07:46:40.005013",
     "status": "completed"
    },
    "tags": []
   },
   "outputs": [],
   "source": [
    "y_pred = Rf.predict(X_test)"
   ]
  },
  {
   "cell_type": "code",
   "execution_count": 12,
   "id": "1593da22",
   "metadata": {
    "execution": {
     "iopub.execute_input": "2024-02-16T07:46:40.181912Z",
     "iopub.status.busy": "2024-02-16T07:46:40.181477Z",
     "iopub.status.idle": "2024-02-16T07:46:40.213822Z",
     "shell.execute_reply": "2024-02-16T07:46:40.212346Z"
    },
    "papermill": {
     "duration": 0.044984,
     "end_time": "2024-02-16T07:46:40.216192",
     "exception": false,
     "start_time": "2024-02-16T07:46:40.171208",
     "status": "completed"
    },
    "tags": []
   },
   "outputs": [
    {
     "name": "stdout",
     "output_type": "stream",
     "text": [
      "Accuracy: 0.8945086705202312\n",
      "Classification_report :                precision    recall  f1-score   support\n",
      "\n",
      "           0       0.94      0.91      0.93       755\n",
      "           1       0.83      0.89      0.86       907\n",
      "           2       0.88      0.86      0.87       858\n",
      "           3       0.97      0.98      0.97      1005\n",
      "           4       1.00      1.00      1.00      1207\n",
      "           5       0.79      0.74      0.76       733\n",
      "           6       0.78      0.79      0.79       763\n",
      "\n",
      "    accuracy                           0.89      6228\n",
      "   macro avg       0.88      0.88      0.88      6228\n",
      "weighted avg       0.89      0.89      0.89      6228\n",
      "\n"
     ]
    }
   ],
   "source": [
    "from sklearn.metrics import accuracy_score,classification_report\n",
    "accuracy = accuracy_score(y_test,y_pred)\n",
    "print(\"Accuracy:\",accuracy)\n",
    "report = classification_report(y_test,y_pred)\n",
    "print(\"Classification_report : \",report)"
   ]
  },
  {
   "cell_type": "code",
   "execution_count": 13,
   "id": "0422cc78",
   "metadata": {
    "execution": {
     "iopub.execute_input": "2024-02-16T07:46:40.236077Z",
     "iopub.status.busy": "2024-02-16T07:46:40.235389Z",
     "iopub.status.idle": "2024-02-16T07:46:40.323546Z",
     "shell.execute_reply": "2024-02-16T07:46:40.322429Z"
    },
    "papermill": {
     "duration": 0.101246,
     "end_time": "2024-02-16T07:46:40.326415",
     "exception": false,
     "start_time": "2024-02-16T07:46:40.225169",
     "status": "completed"
    },
    "tags": []
   },
   "outputs": [
    {
     "data": {
      "text/html": [
       "<div>\n",
       "<style scoped>\n",
       "    .dataframe tbody tr th:only-of-type {\n",
       "        vertical-align: middle;\n",
       "    }\n",
       "\n",
       "    .dataframe tbody tr th {\n",
       "        vertical-align: top;\n",
       "    }\n",
       "\n",
       "    .dataframe thead th {\n",
       "        text-align: right;\n",
       "    }\n",
       "</style>\n",
       "<table border=\"1\" class=\"dataframe\">\n",
       "  <thead>\n",
       "    <tr style=\"text-align: right;\">\n",
       "      <th></th>\n",
       "      <th>id</th>\n",
       "      <th>Gender</th>\n",
       "      <th>Age</th>\n",
       "      <th>Height</th>\n",
       "      <th>Weight</th>\n",
       "      <th>family_history_with_overweight</th>\n",
       "      <th>FAVC</th>\n",
       "      <th>FCVC</th>\n",
       "      <th>NCP</th>\n",
       "      <th>CAEC</th>\n",
       "      <th>SMOKE</th>\n",
       "      <th>CH2O</th>\n",
       "      <th>SCC</th>\n",
       "      <th>FAF</th>\n",
       "      <th>TUE</th>\n",
       "      <th>CALC</th>\n",
       "      <th>MTRANS</th>\n",
       "    </tr>\n",
       "  </thead>\n",
       "  <tbody>\n",
       "    <tr>\n",
       "      <th>0</th>\n",
       "      <td>20758</td>\n",
       "      <td>Male</td>\n",
       "      <td>26.899886</td>\n",
       "      <td>1.848294</td>\n",
       "      <td>120.644178</td>\n",
       "      <td>yes</td>\n",
       "      <td>yes</td>\n",
       "      <td>2.938616</td>\n",
       "      <td>3.000000</td>\n",
       "      <td>Sometimes</td>\n",
       "      <td>no</td>\n",
       "      <td>2.825629</td>\n",
       "      <td>no</td>\n",
       "      <td>0.855400</td>\n",
       "      <td>0.000000</td>\n",
       "      <td>Sometimes</td>\n",
       "      <td>Public_Transportation</td>\n",
       "    </tr>\n",
       "    <tr>\n",
       "      <th>1</th>\n",
       "      <td>20759</td>\n",
       "      <td>Female</td>\n",
       "      <td>21.000000</td>\n",
       "      <td>1.600000</td>\n",
       "      <td>66.000000</td>\n",
       "      <td>yes</td>\n",
       "      <td>yes</td>\n",
       "      <td>2.000000</td>\n",
       "      <td>1.000000</td>\n",
       "      <td>Sometimes</td>\n",
       "      <td>no</td>\n",
       "      <td>3.000000</td>\n",
       "      <td>no</td>\n",
       "      <td>1.000000</td>\n",
       "      <td>0.000000</td>\n",
       "      <td>Sometimes</td>\n",
       "      <td>Public_Transportation</td>\n",
       "    </tr>\n",
       "    <tr>\n",
       "      <th>2</th>\n",
       "      <td>20760</td>\n",
       "      <td>Female</td>\n",
       "      <td>26.000000</td>\n",
       "      <td>1.643355</td>\n",
       "      <td>111.600553</td>\n",
       "      <td>yes</td>\n",
       "      <td>yes</td>\n",
       "      <td>3.000000</td>\n",
       "      <td>3.000000</td>\n",
       "      <td>Sometimes</td>\n",
       "      <td>no</td>\n",
       "      <td>2.621877</td>\n",
       "      <td>no</td>\n",
       "      <td>0.000000</td>\n",
       "      <td>0.250502</td>\n",
       "      <td>Sometimes</td>\n",
       "      <td>Public_Transportation</td>\n",
       "    </tr>\n",
       "    <tr>\n",
       "      <th>3</th>\n",
       "      <td>20761</td>\n",
       "      <td>Male</td>\n",
       "      <td>20.979254</td>\n",
       "      <td>1.553127</td>\n",
       "      <td>103.669116</td>\n",
       "      <td>yes</td>\n",
       "      <td>yes</td>\n",
       "      <td>2.000000</td>\n",
       "      <td>2.977909</td>\n",
       "      <td>Sometimes</td>\n",
       "      <td>no</td>\n",
       "      <td>2.786417</td>\n",
       "      <td>no</td>\n",
       "      <td>0.094851</td>\n",
       "      <td>0.000000</td>\n",
       "      <td>Sometimes</td>\n",
       "      <td>Public_Transportation</td>\n",
       "    </tr>\n",
       "  </tbody>\n",
       "</table>\n",
       "</div>"
      ],
      "text/plain": [
       "      id  Gender        Age    Height      Weight  \\\n",
       "0  20758    Male  26.899886  1.848294  120.644178   \n",
       "1  20759  Female  21.000000  1.600000   66.000000   \n",
       "2  20760  Female  26.000000  1.643355  111.600553   \n",
       "3  20761    Male  20.979254  1.553127  103.669116   \n",
       "\n",
       "  family_history_with_overweight FAVC      FCVC       NCP       CAEC SMOKE  \\\n",
       "0                            yes  yes  2.938616  3.000000  Sometimes    no   \n",
       "1                            yes  yes  2.000000  1.000000  Sometimes    no   \n",
       "2                            yes  yes  3.000000  3.000000  Sometimes    no   \n",
       "3                            yes  yes  2.000000  2.977909  Sometimes    no   \n",
       "\n",
       "       CH2O SCC       FAF       TUE       CALC                 MTRANS  \n",
       "0  2.825629  no  0.855400  0.000000  Sometimes  Public_Transportation  \n",
       "1  3.000000  no  1.000000  0.000000  Sometimes  Public_Transportation  \n",
       "2  2.621877  no  0.000000  0.250502  Sometimes  Public_Transportation  \n",
       "3  2.786417  no  0.094851  0.000000  Sometimes  Public_Transportation  "
      ]
     },
     "execution_count": 13,
     "metadata": {},
     "output_type": "execute_result"
    }
   ],
   "source": [
    "test_df = pd.read_csv('/kaggle/input/playground-series-s4e2/test.csv')\n",
    "test_df.head(4)"
   ]
  },
  {
   "cell_type": "code",
   "execution_count": 14,
   "id": "31fdb428",
   "metadata": {
    "execution": {
     "iopub.execute_input": "2024-02-16T07:46:40.347933Z",
     "iopub.status.busy": "2024-02-16T07:46:40.347530Z",
     "iopub.status.idle": "2024-02-16T07:46:40.389635Z",
     "shell.execute_reply": "2024-02-16T07:46:40.388503Z"
    },
    "papermill": {
     "duration": 0.056011,
     "end_time": "2024-02-16T07:46:40.392171",
     "exception": false,
     "start_time": "2024-02-16T07:46:40.336160",
     "status": "completed"
    },
    "tags": []
   },
   "outputs": [],
   "source": [
    "test_df['family_history_with_overweight'] = le.fit_transform(test_df['family_history_with_overweight'])\n",
    "test_df['FAVC'] = le.fit_transform(test_df['FAVC'])\n",
    "test_df['CAEC'] = le.fit_transform(test_df['CAEC'])\n",
    "test_df['SMOKE'] = le.fit_transform(test_df['SMOKE'])\n",
    "test_df['SCC'] = le.fit_transform(test_df['SCC'])\n",
    "test_df['CALC'] = le.fit_transform(test_df['CALC'])\n",
    "test_df['MTRANS'] = le.fit_transform(test_df['MTRANS'])\n",
    "test_df['Gender'] = le.fit_transform(test_df['Gender'])"
   ]
  },
  {
   "cell_type": "code",
   "execution_count": 15,
   "id": "214c97ea",
   "metadata": {
    "execution": {
     "iopub.execute_input": "2024-02-16T07:46:40.412911Z",
     "iopub.status.busy": "2024-02-16T07:46:40.412474Z",
     "iopub.status.idle": "2024-02-16T07:46:40.431152Z",
     "shell.execute_reply": "2024-02-16T07:46:40.430169Z"
    },
    "papermill": {
     "duration": 0.031973,
     "end_time": "2024-02-16T07:46:40.433536",
     "exception": false,
     "start_time": "2024-02-16T07:46:40.401563",
     "status": "completed"
    },
    "tags": []
   },
   "outputs": [
    {
     "data": {
      "text/html": [
       "<div>\n",
       "<style scoped>\n",
       "    .dataframe tbody tr th:only-of-type {\n",
       "        vertical-align: middle;\n",
       "    }\n",
       "\n",
       "    .dataframe tbody tr th {\n",
       "        vertical-align: top;\n",
       "    }\n",
       "\n",
       "    .dataframe thead th {\n",
       "        text-align: right;\n",
       "    }\n",
       "</style>\n",
       "<table border=\"1\" class=\"dataframe\">\n",
       "  <thead>\n",
       "    <tr style=\"text-align: right;\">\n",
       "      <th></th>\n",
       "      <th>id</th>\n",
       "      <th>Gender</th>\n",
       "      <th>Age</th>\n",
       "      <th>Height</th>\n",
       "      <th>Weight</th>\n",
       "      <th>family_history_with_overweight</th>\n",
       "      <th>FAVC</th>\n",
       "      <th>FCVC</th>\n",
       "      <th>NCP</th>\n",
       "      <th>CAEC</th>\n",
       "      <th>SMOKE</th>\n",
       "      <th>CH2O</th>\n",
       "      <th>SCC</th>\n",
       "      <th>FAF</th>\n",
       "      <th>TUE</th>\n",
       "      <th>CALC</th>\n",
       "      <th>MTRANS</th>\n",
       "    </tr>\n",
       "  </thead>\n",
       "  <tbody>\n",
       "    <tr>\n",
       "      <th>0</th>\n",
       "      <td>20758</td>\n",
       "      <td>1</td>\n",
       "      <td>26.899886</td>\n",
       "      <td>1.848294</td>\n",
       "      <td>120.644178</td>\n",
       "      <td>1</td>\n",
       "      <td>1</td>\n",
       "      <td>2.938616</td>\n",
       "      <td>3.000000</td>\n",
       "      <td>2</td>\n",
       "      <td>0</td>\n",
       "      <td>2.825629</td>\n",
       "      <td>0</td>\n",
       "      <td>0.855400</td>\n",
       "      <td>0.000000</td>\n",
       "      <td>2</td>\n",
       "      <td>3</td>\n",
       "    </tr>\n",
       "    <tr>\n",
       "      <th>1</th>\n",
       "      <td>20759</td>\n",
       "      <td>0</td>\n",
       "      <td>21.000000</td>\n",
       "      <td>1.600000</td>\n",
       "      <td>66.000000</td>\n",
       "      <td>1</td>\n",
       "      <td>1</td>\n",
       "      <td>2.000000</td>\n",
       "      <td>1.000000</td>\n",
       "      <td>2</td>\n",
       "      <td>0</td>\n",
       "      <td>3.000000</td>\n",
       "      <td>0</td>\n",
       "      <td>1.000000</td>\n",
       "      <td>0.000000</td>\n",
       "      <td>2</td>\n",
       "      <td>3</td>\n",
       "    </tr>\n",
       "    <tr>\n",
       "      <th>2</th>\n",
       "      <td>20760</td>\n",
       "      <td>0</td>\n",
       "      <td>26.000000</td>\n",
       "      <td>1.643355</td>\n",
       "      <td>111.600553</td>\n",
       "      <td>1</td>\n",
       "      <td>1</td>\n",
       "      <td>3.000000</td>\n",
       "      <td>3.000000</td>\n",
       "      <td>2</td>\n",
       "      <td>0</td>\n",
       "      <td>2.621877</td>\n",
       "      <td>0</td>\n",
       "      <td>0.000000</td>\n",
       "      <td>0.250502</td>\n",
       "      <td>2</td>\n",
       "      <td>3</td>\n",
       "    </tr>\n",
       "    <tr>\n",
       "      <th>3</th>\n",
       "      <td>20761</td>\n",
       "      <td>1</td>\n",
       "      <td>20.979254</td>\n",
       "      <td>1.553127</td>\n",
       "      <td>103.669116</td>\n",
       "      <td>1</td>\n",
       "      <td>1</td>\n",
       "      <td>2.000000</td>\n",
       "      <td>2.977909</td>\n",
       "      <td>2</td>\n",
       "      <td>0</td>\n",
       "      <td>2.786417</td>\n",
       "      <td>0</td>\n",
       "      <td>0.094851</td>\n",
       "      <td>0.000000</td>\n",
       "      <td>2</td>\n",
       "      <td>3</td>\n",
       "    </tr>\n",
       "  </tbody>\n",
       "</table>\n",
       "</div>"
      ],
      "text/plain": [
       "      id  Gender        Age    Height      Weight  \\\n",
       "0  20758       1  26.899886  1.848294  120.644178   \n",
       "1  20759       0  21.000000  1.600000   66.000000   \n",
       "2  20760       0  26.000000  1.643355  111.600553   \n",
       "3  20761       1  20.979254  1.553127  103.669116   \n",
       "\n",
       "   family_history_with_overweight  FAVC      FCVC       NCP  CAEC  SMOKE  \\\n",
       "0                               1     1  2.938616  3.000000     2      0   \n",
       "1                               1     1  2.000000  1.000000     2      0   \n",
       "2                               1     1  3.000000  3.000000     2      0   \n",
       "3                               1     1  2.000000  2.977909     2      0   \n",
       "\n",
       "       CH2O  SCC       FAF       TUE  CALC  MTRANS  \n",
       "0  2.825629    0  0.855400  0.000000     2       3  \n",
       "1  3.000000    0  1.000000  0.000000     2       3  \n",
       "2  2.621877    0  0.000000  0.250502     2       3  \n",
       "3  2.786417    0  0.094851  0.000000     2       3  "
      ]
     },
     "execution_count": 15,
     "metadata": {},
     "output_type": "execute_result"
    }
   ],
   "source": [
    "test_df.head(4)"
   ]
  },
  {
   "cell_type": "code",
   "execution_count": 16,
   "id": "3ed98391",
   "metadata": {
    "execution": {
     "iopub.execute_input": "2024-02-16T07:46:40.455141Z",
     "iopub.status.busy": "2024-02-16T07:46:40.454754Z",
     "iopub.status.idle": "2024-02-16T07:46:40.716763Z",
     "shell.execute_reply": "2024-02-16T07:46:40.715363Z"
    },
    "papermill": {
     "duration": 0.276464,
     "end_time": "2024-02-16T07:46:40.719777",
     "exception": false,
     "start_time": "2024-02-16T07:46:40.443313",
     "status": "completed"
    },
    "tags": []
   },
   "outputs": [],
   "source": [
    "predict = Rf.predict(test_df)"
   ]
  },
  {
   "cell_type": "code",
   "execution_count": 17,
   "id": "f7325183",
   "metadata": {
    "execution": {
     "iopub.execute_input": "2024-02-16T07:46:40.741189Z",
     "iopub.status.busy": "2024-02-16T07:46:40.740772Z",
     "iopub.status.idle": "2024-02-16T07:46:40.747816Z",
     "shell.execute_reply": "2024-02-16T07:46:40.746679Z"
    },
    "papermill": {
     "duration": 0.020458,
     "end_time": "2024-02-16T07:46:40.750167",
     "exception": false,
     "start_time": "2024-02-16T07:46:40.729709",
     "status": "completed"
    },
    "tags": []
   },
   "outputs": [
    {
     "data": {
      "text/plain": [
       "array([3, 5, 4, ..., 0, 1, 3])"
      ]
     },
     "execution_count": 17,
     "metadata": {},
     "output_type": "execute_result"
    }
   ],
   "source": [
    "predict"
   ]
  },
  {
   "cell_type": "code",
   "execution_count": 18,
   "id": "a2384b3d",
   "metadata": {
    "execution": {
     "iopub.execute_input": "2024-02-16T07:46:40.771849Z",
     "iopub.status.busy": "2024-02-16T07:46:40.771429Z",
     "iopub.status.idle": "2024-02-16T07:46:40.784249Z",
     "shell.execute_reply": "2024-02-16T07:46:40.782656Z"
    },
    "papermill": {
     "duration": 0.028096,
     "end_time": "2024-02-16T07:46:40.788191",
     "exception": false,
     "start_time": "2024-02-16T07:46:40.760095",
     "status": "completed"
    },
    "tags": []
   },
   "outputs": [],
   "source": [
    "label_mapping = {\n",
    "    6: 'Overweight_Level_II',\n",
    "    1: 'Normal_Weight',\n",
    "    0: 'Insufficient_Weight',\n",
    "    4: 'Obesity_Type_III',\n",
    "    3: 'Obesity_Type_II',\n",
    "    5: 'Overweight_Level_I',\n",
    "    2: 'Obesity_Type_I'\n",
    "}\n",
    "\n",
    "# Applying the mapping to predicted labels\n",
    "y_test_mapped = [label_mapping[label] for label in predict]"
   ]
  },
  {
   "cell_type": "code",
   "execution_count": 19,
   "id": "f52deb29",
   "metadata": {
    "execution": {
     "iopub.execute_input": "2024-02-16T07:46:40.818109Z",
     "iopub.status.busy": "2024-02-16T07:46:40.817505Z",
     "iopub.status.idle": "2024-02-16T07:46:40.828689Z",
     "shell.execute_reply": "2024-02-16T07:46:40.827445Z"
    },
    "papermill": {
     "duration": 0.029595,
     "end_time": "2024-02-16T07:46:40.831571",
     "exception": false,
     "start_time": "2024-02-16T07:46:40.801976",
     "status": "completed"
    },
    "tags": []
   },
   "outputs": [
    {
     "name": "stderr",
     "output_type": "stream",
     "text": [
      "/tmp/ipykernel_18/1124977915.py:2: SettingWithCopyWarning: \n",
      "A value is trying to be set on a copy of a slice from a DataFrame.\n",
      "Try using .loc[row_indexer,col_indexer] = value instead\n",
      "\n",
      "See the caveats in the documentation: https://pandas.pydata.org/pandas-docs/stable/user_guide/indexing.html#returning-a-view-versus-a-copy\n",
      "  submission['NObeyesdad'] = y_test_mapped\n"
     ]
    }
   ],
   "source": [
    "submission = test_df[['id']]\n",
    "submission['NObeyesdad'] = y_test_mapped"
   ]
  },
  {
   "cell_type": "code",
   "execution_count": 20,
   "id": "fad2dad0",
   "metadata": {
    "execution": {
     "iopub.execute_input": "2024-02-16T07:46:40.859093Z",
     "iopub.status.busy": "2024-02-16T07:46:40.858253Z",
     "iopub.status.idle": "2024-02-16T07:46:40.901371Z",
     "shell.execute_reply": "2024-02-16T07:46:40.900029Z"
    },
    "papermill": {
     "duration": 0.060009,
     "end_time": "2024-02-16T07:46:40.903921",
     "exception": false,
     "start_time": "2024-02-16T07:46:40.843912",
     "status": "completed"
    },
    "tags": []
   },
   "outputs": [
    {
     "data": {
      "text/html": [
       "<div>\n",
       "<style scoped>\n",
       "    .dataframe tbody tr th:only-of-type {\n",
       "        vertical-align: middle;\n",
       "    }\n",
       "\n",
       "    .dataframe tbody tr th {\n",
       "        vertical-align: top;\n",
       "    }\n",
       "\n",
       "    .dataframe thead th {\n",
       "        text-align: right;\n",
       "    }\n",
       "</style>\n",
       "<table border=\"1\" class=\"dataframe\">\n",
       "  <thead>\n",
       "    <tr style=\"text-align: right;\">\n",
       "      <th></th>\n",
       "      <th>id</th>\n",
       "      <th>NObeyesdad</th>\n",
       "    </tr>\n",
       "  </thead>\n",
       "  <tbody>\n",
       "    <tr>\n",
       "      <th>0</th>\n",
       "      <td>20758</td>\n",
       "      <td>Obesity_Type_II</td>\n",
       "    </tr>\n",
       "    <tr>\n",
       "      <th>1</th>\n",
       "      <td>20759</td>\n",
       "      <td>Overweight_Level_I</td>\n",
       "    </tr>\n",
       "    <tr>\n",
       "      <th>2</th>\n",
       "      <td>20760</td>\n",
       "      <td>Obesity_Type_III</td>\n",
       "    </tr>\n",
       "    <tr>\n",
       "      <th>3</th>\n",
       "      <td>20761</td>\n",
       "      <td>Obesity_Type_I</td>\n",
       "    </tr>\n",
       "    <tr>\n",
       "      <th>4</th>\n",
       "      <td>20762</td>\n",
       "      <td>Obesity_Type_III</td>\n",
       "    </tr>\n",
       "  </tbody>\n",
       "</table>\n",
       "</div>"
      ],
      "text/plain": [
       "      id          NObeyesdad\n",
       "0  20758     Obesity_Type_II\n",
       "1  20759  Overweight_Level_I\n",
       "2  20760    Obesity_Type_III\n",
       "3  20761      Obesity_Type_I\n",
       "4  20762    Obesity_Type_III"
      ]
     },
     "execution_count": 20,
     "metadata": {},
     "output_type": "execute_result"
    }
   ],
   "source": [
    "submission.to_csv(\"submission.csv\", index=False)\n",
    "submission.head()"
   ]
  },
  {
   "cell_type": "code",
   "execution_count": null,
   "id": "45e997c1",
   "metadata": {
    "papermill": {
     "duration": 0.009735,
     "end_time": "2024-02-16T07:46:40.924068",
     "exception": false,
     "start_time": "2024-02-16T07:46:40.914333",
     "status": "completed"
    },
    "tags": []
   },
   "outputs": [],
   "source": []
  },
  {
   "cell_type": "code",
   "execution_count": null,
   "id": "f3d36eba",
   "metadata": {
    "papermill": {
     "duration": 0.009789,
     "end_time": "2024-02-16T07:46:40.944113",
     "exception": false,
     "start_time": "2024-02-16T07:46:40.934324",
     "status": "completed"
    },
    "tags": []
   },
   "outputs": [],
   "source": []
  }
 ],
 "metadata": {
  "kaggle": {
   "accelerator": "none",
   "dataSources": [
    {
     "databundleVersionId": 7609535,
     "sourceId": 68479,
     "sourceType": "competition"
    }
   ],
   "dockerImageVersionId": 30646,
   "isGpuEnabled": false,
   "isInternetEnabled": true,
   "language": "python",
   "sourceType": "notebook"
  },
  "kernelspec": {
   "display_name": "Python 3",
   "language": "python",
   "name": "python3"
  },
  "language_info": {
   "codemirror_mode": {
    "name": "ipython",
    "version": 3
   },
   "file_extension": ".py",
   "mimetype": "text/x-python",
   "name": "python",
   "nbconvert_exporter": "python",
   "pygments_lexer": "ipython3",
   "version": "3.10.13"
  },
  "papermill": {
   "default_parameters": {},
   "duration": 10.37768,
   "end_time": "2024-02-16T07:46:41.576817",
   "environment_variables": {},
   "exception": null,
   "input_path": "__notebook__.ipynb",
   "output_path": "__notebook__.ipynb",
   "parameters": {},
   "start_time": "2024-02-16T07:46:31.199137",
   "version": "2.5.0"
  }
 },
 "nbformat": 4,
 "nbformat_minor": 5
}
